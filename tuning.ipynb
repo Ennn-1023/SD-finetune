{
 "cells": [
  {
   "cell_type": "code",
   "execution_count": null,
   "metadata": {},
   "outputs": [],
   "source": []
  },
  {
   "cell_type": "code",
   "execution_count": 8,
   "metadata": {},
   "outputs": [],
   "source": [
    "train_path = './Stable-Diffusion-Inpaint/data/train_data'\n",
    "val_path = './Stable-Diffusion-Inpaintdata/data/val_data'"
   ]
  },
  {
   "cell_type": "code",
   "execution_count": null,
   "metadata": {},
   "outputs": [],
   "source": [
    "# import os\n",
    "# import csv\n",
    "# train_path = './Stable-Diffusion-Inpaint/data/train_data'\n",
    "# tr_flist = os.listdir(train_path)\n",
    "# tr_flist.sort()\n",
    "# with open('./Stable-Diffusion-Inpaint/data/train.csv', 'w', newline='') as csvfile:\n",
    "#     writer = csv.writer(csvfile)\n",
    "#     writer.writerow(['raw', 'fixed', 'mask', 'partition'])\n",
    "#     writer.writerows([[f.replace('.jpg', '_raw.jpg'), f.replace('.jpg', '_fixed.jpg'), f.replace('.jpg', '_mask.jpg'), 'train'] for f in tr_flist])\n",
    "import os\n",
    "import csv\n",
    "import random\n",
    "\n",
    "train_path = './Stable-Diffusion-Inpaint/data/train_data'\n",
    "tr_flist = os.listdir(train_path)\n",
    "tr_flist.sort()\n",
    "\n",
    "# 隨機打亂\n",
    "random.shuffle(tr_flist)\n",
    "\n",
    "# 分成 train 和 validation\n",
    "num_val = len(tr_flist) // 5\n",
    "val_files = set(tr_flist[:num_val])  # 前面 1/5 當 validation\n",
    "train_files = tr_flist[num_val:]     # 剩下當 train\n",
    "\n",
    "with open('./Stable-Diffusion-Inpaint/data/train.csv', 'w', newline='') as csvfile:\n",
    "    writer = csv.writer(csvfile)\n",
    "    writer.writerow(['raw', 'fixed', 'mask', 'partition'])\n",
    "\n",
    "    for f in tr_flist:\n",
    "        partition = 'validation' if f in val_files else 'train'\n",
    "        writer.writerow([\n",
    "            f.replace('.jpg', '_raw.jpg'),\n",
    "            f.replace('.jpg', '_fixed.jpg'),\n",
    "            f.replace('.jpg', '_mask.jpg'),\n",
    "            partition\n",
    "        ])\n",
    "\n",
    "# val_flist = os.listdir(val_path)\n",
    "# val_flist.sort()\n",
    "# with open('./Stable-Diffusion-Inpaint/data/val.csv', 'w', newline='') as csvfile:\n",
    "#     writer = csv.writer(csvfile)\n",
    "#     writer.writerow(['raw', 'fixed', 'mask', 'partition'])\n",
    "#     writer.writerows([[f, f.replace('.jpg', '_fixed.jpg'), f.replace('.jpg', '_mask.jpg'), 'validation'] for f in val_flist])"
   ]
  },
  {
   "cell_type": "code",
   "execution_count": null,
   "metadata": {},
   "outputs": [],
   "source": [
    "import os\n",
    "import glob\n",
    "\n",
    "# 定義目錄\n",
    "raw_dir = \"./train_data/origin/\"\n",
    "fixed_dir = \"./train_data/fixed/\"\n",
    "mask_dir = \"./train_data/mask/\"\n",
    "\n",
    "# 批量處理 raw\n",
    "for file_path in glob.glob(os.path.join(raw_dir, \"*.jpg\")):\n",
    "    base_name = os.path.basename(file_path)  # 取得原始檔名\n",
    "    new_name = os.path.join(raw_dir, base_name.replace(\".jpg\", \"_raw.jpg\"))\n",
    "    os.rename(file_path, new_name)\n",
    "\n",
    "# 批量處理 fixed\n",
    "for file_path in glob.glob(os.path.join(fixed_dir, \"*.jpg\")):\n",
    "    base_name = os.path.basename(file_path)\n",
    "    new_name = os.path.join(raw_dir, base_name.replace(\".jpg\", \"_fixed.jpg\"))\n",
    "    os.rename(file_path, new_name)\n",
    "\n",
    "# 批量處理 mask\n",
    "for file_path in glob.glob(os.path.join(mask_dir, \"*.jpg\")):\n",
    "    base_name = os.path.basename(file_path)\n",
    "    new_name = os.path.join(raw_dir, base_name.replace(\".jpg\", \"_mask.jpg\"))\n",
    "    os.rename(file_path, new_name)\n",
    "\n",
    "print(\"檔案重新命名完成！\")\n"
   ]
  },
  {
   "cell_type": "code",
   "execution_count": null,
   "metadata": {},
   "outputs": [
    {
     "name": "stderr",
     "output_type": "stream",
     "text": [
      "usage: ipykernel_launcher.py [-h] [-in IN_PATH] [-out OUT_PATH]\n",
      "ipykernel_launcher.py: error: unrecognized arguments: --f=c:\\Users\\a0418\\AppData\\Roaming\\jupyter\\runtime\\kernel-v3f0523a11f102f2209048c87439e2a3cbb587b37b.json\n"
     ]
    },
    {
     "ename": "SystemExit",
     "evalue": "2",
     "output_type": "error",
     "traceback": [
      "An exception has occurred, use %tb to see the full traceback.\n",
      "\u001b[1;31mSystemExit\u001b[0m\u001b[1;31m:\u001b[0m 2\n"
     ]
    },
    {
     "name": "stderr",
     "output_type": "stream",
     "text": [
      "c:\\Users\\a0418\\miniconda3\\envs\\ldm\\lib\\site-packages\\IPython\\core\\interactiveshell.py:3516: UserWarning: To exit: use 'exit', 'quit', or Ctrl-D.\n",
      "  warn(\"To exit: use 'exit', 'quit', or Ctrl-D.\", stacklevel=1)\n"
     ]
    }
   ],
   "source": [
    "import argparse\n",
    "import os\n",
    "\n",
    "parser = argparse.ArgumentParser()\n",
    "parser.add_argument('-in', '--in_path', type=str, required=True)\n",
    "parser.add_argument('-out', '--out_path', type=str, required=True)\n",
    "\n",
    "args = parser.parse_args()\n",
    "dir_path = args.in_path\n",
    "out_path = args.out_path\n",
    "\n",
    "os.makedirs(out_path, exist_ok=True)  # 確保主輸出資料夾存在\n",
    "print(f'Create directory: {out_path}')\n",
    "\n",
    "fList = sorted(os.listdir(dir_path))  # 直接在這裡 sort，比你的方式簡潔\n",
    "\n",
    "for i, file in enumerate(fList):\n",
    "    assert file.endswith('.jpg'), f'Only support jpg file, but got {file}'\n",
    "\n",
    "    subdir = os.path.join(out_path, f'{i // 400}')\n",
    "    os.makedirs(subdir, exist_ok=True)  # 確保子資料夾存在\n",
    "\n",
    "    src = os.path.join(dir_path, file)\n",
    "    dst = os.path.join(subdir, file)\n",
    "\n",
    "    os.system(f'mv \"{src}\" \"{dst}\"')  # 用雙引號避免空格問題\n",
    "    print(f'Move {file} -> {dst}')\n",
    "\n",
    "print('Done!')"
   ]
  }
 ],
 "metadata": {
  "kernelspec": {
   "display_name": "ldm",
   "language": "python",
   "name": "python3"
  },
  "language_info": {
   "codemirror_mode": {
    "name": "ipython",
    "version": 3
   },
   "file_extension": ".py",
   "mimetype": "text/x-python",
   "name": "python",
   "nbconvert_exporter": "python",
   "pygments_lexer": "ipython3",
   "version": "3.8.12"
  }
 },
 "nbformat": 4,
 "nbformat_minor": 2
}
