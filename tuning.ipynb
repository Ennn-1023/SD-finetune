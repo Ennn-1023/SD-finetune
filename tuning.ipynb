{
 "cells": [
  {
   "cell_type": "code",
   "execution_count": 7,
   "metadata": {},
   "outputs": [],
   "source": [
    "import os\n",
    "import csv"
   ]
  },
  {
   "cell_type": "code",
   "execution_count": 8,
   "metadata": {},
   "outputs": [],
   "source": [
    "train_path = './Stable-Diffusion-Inpaint/data/train_data'\n",
    "val_path = './Stable-Diffusion-Inpaintdata/data/val_data'"
   ]
  },
  {
   "cell_type": "code",
   "execution_count": null,
   "metadata": {},
   "outputs": [],
   "source": [
    "tr_flist = os.listdir(train_path)\n",
    "tr_flist.sort()\n",
    "with open('./Stable-Diffusion-Inpaint/data/train.csv', 'w', newline='') as csvfile:\n",
    "    writer = csv.writer(csvfile)\n",
    "    writer.writerow(['raw', 'fixed', 'mask', 'partition'])\n",
    "    writer.writerows([[f, f.replace('.jpg', '_fixed.jpg'), f.replace('.jpg', '_mask.jpg'), 'train'] for f in tr_flist])\n",
    "\n",
    "val_flist = os.listdir(val_path)\n",
    "val_flist.sort()\n",
    "with open('./Stable-Diffusion-Inpaint/data/val.csv', 'w', newline='') as csvfile:\n",
    "    writer = csv.writer(csvfile)\n",
    "    writer.writerow(['raw', 'fixed', 'mask', 'partition'])\n",
    "    writer.writerows([[f, f.replace('.jpg', '_fixed.jpg'), f.replace('.jpg', '_mask.jpg'), 'validation'] for f in val_flist])"
   ]
  }
 ],
 "metadata": {
  "kernelspec": {
   "display_name": "base",
   "language": "python",
   "name": "python3"
  },
  "language_info": {
   "codemirror_mode": {
    "name": "ipython",
    "version": 3
   },
   "file_extension": ".py",
   "mimetype": "text/x-python",
   "name": "python",
   "nbconvert_exporter": "python",
   "pygments_lexer": "ipython3",
   "version": "3.12.3"
  }
 },
 "nbformat": 4,
 "nbformat_minor": 2
}
