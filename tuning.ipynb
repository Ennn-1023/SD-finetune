{
 "cells": [
  {
   "cell_type": "code",
   "execution_count": 7,
   "metadata": {},
   "outputs": [],
   "source": [
    "import os\n",
    "import csv"
   ]
  },
  {
   "cell_type": "code",
   "execution_count": 8,
   "metadata": {},
   "outputs": [],
   "source": [
    "train_path = './Stable-Diffusion-Inpaint/data/train_data'\n",
    "val_path = './Stable-Diffusion-Inpaintdata/data/val_data'"
   ]
  },
  {
   "cell_type": "code",
   "execution_count": null,
   "metadata": {},
   "outputs": [],
   "source": [
    "tr_flist = os.listdir(train_path)\n",
    "tr_flist.sort()\n",
    "with open('./Stable-Diffusion-Inpaint/data/train.csv', 'w', newline='') as csvfile:\n",
    "    writer = csv.writer(csvfile)\n",
    "    writer.writerow(['raw', 'fixed', 'mask', 'partition'])\n",
    "    writer.writerows([[f, f.replace('.jpg', '_fixed.jpg'), f.replace('.jpg', '_mask.jpg'), 'train'] for f in tr_flist])\n",
    "\n",
    "val_flist = os.listdir(val_path)\n",
    "val_flist.sort()\n",
    "with open('./Stable-Diffusion-Inpaint/data/val.csv', 'w', newline='') as csvfile:\n",
    "    writer = csv.writer(csvfile)\n",
    "    writer.writerow(['raw', 'fixed', 'mask', 'partition'])\n",
    "    writer.writerows([[f, f.replace('.jpg', '_fixed.jpg'), f.replace('.jpg', '_mask.jpg'), 'validation'] for f in val_flist])"
   ]
  },
  {
   "cell_type": "code",
   "execution_count": null,
   "metadata": {},
   "outputs": [],
   "source": [
    "import os\n",
    "import glob\n",
    "\n",
    "# 定義目錄\n",
    "raw_dir = \"./train_data/origin/\"\n",
    "fixed_dir = \"./train_data/fixed/\"\n",
    "mask_dir = \"./train_data/mask/\"\n",
    "\n",
    "# 批量處理 raw\n",
    "for file_path in glob.glob(os.path.join(raw_dir, \"*.jpg\")):\n",
    "    base_name = os.path.basename(file_path)  # 取得原始檔名\n",
    "    new_name = os.path.join(raw_dir, base_name.replace(\".jpg\", \"_raw.jpg\"))\n",
    "    os.rename(file_path, new_name)\n",
    "\n",
    "# 批量處理 fixed\n",
    "for file_path in glob.glob(os.path.join(fixed_dir, \"*.jpg\")):\n",
    "    base_name = os.path.basename(file_path)\n",
    "    new_name = os.path.join(raw_dir, base_name.replace(\".jpg\", \"_fixed.jpg\"))\n",
    "    os.rename(file_path, new_name)\n",
    "\n",
    "# 批量處理 mask\n",
    "for file_path in glob.glob(os.path.join(mask_dir, \"*.jpg\")):\n",
    "    base_name = os.path.basename(file_path)\n",
    "    new_name = os.path.join(raw_dir, base_name.replace(\".jpg\", \"_mask.jpg\"))\n",
    "    os.rename(file_path, new_name)\n",
    "\n",
    "print(\"檔案重新命名完成！\")\n"
   ]
  }
 ],
 "metadata": {
  "kernelspec": {
   "display_name": "base",
   "language": "python",
   "name": "python3"
  },
  "language_info": {
   "codemirror_mode": {
    "name": "ipython",
    "version": 3
   },
   "file_extension": ".py",
   "mimetype": "text/x-python",
   "name": "python",
   "nbconvert_exporter": "python",
   "pygments_lexer": "ipython3",
   "version": "3.12.3"
  }
 },
 "nbformat": 4,
 "nbformat_minor": 2
}
